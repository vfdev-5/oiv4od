{
 "cells": [
  {
   "cell_type": "markdown",
   "metadata": {},
   "source": [
    "# Convert annotations to MS Coco format with more meta fields\n",
    "\n",
    "Convert datasets: validation and test\n",
    "```\n",
    "validation -> train\n",
    "test -> val\n",
    "```\n",
    "We added into annotations:\n",
    "- 'IsOccluded'\n",
    "- 'IsTruncated'\n",
    "- 'IsDepiction'\n",
    "- 'IsInside'\n",
    "\n",
    "Apply prefiltering: \n",
    "- images with any dimension larger 2000 pixels are ignored\n",
    "- do not write annotations without bboxes"
   ]
  },
  {
   "cell_type": "code",
   "execution_count": 1,
   "metadata": {},
   "outputs": [],
   "source": [
    "from pathlib import Path\n",
    "\n",
    "import numpy as np\n",
    "import pandas as pd\n",
    "\n",
    "import json\n",
    "from PIL import Image"
   ]
  },
  {
   "cell_type": "code",
   "execution_count": 2,
   "metadata": {},
   "outputs": [],
   "source": [
    "VALIDATION_IMAGES_PATH = Path(\".\").resolve().parent / \"input\" / \"validation\"\n",
    "VALIDATION_ANNOTATIONS_CSV_PATH = Path(\".\").resolve().parent / \"input\" / \"validation-annotations-bbox.csv\"\n",
    "VALIDATION_CONFIDENCE_CSV_PATH = Path(\".\").resolve().parent / \"input\" / \"validation-annotations-human-imagelabels-boxable.csv\"\n",
    "VALIDATION_IMGINFO_CSV_PATH = Path(\".\").resolve().parent / \"input\" / \"validation-images-with-rotation.csv\"\n",
    "LABELS_DESCRIPTION_CSV_PATH = Path(\".\").resolve().parent / \"input\" / \"class-descriptions-boxable.csv\""
   ]
  },
  {
   "cell_type": "code",
   "execution_count": 3,
   "metadata": {},
   "outputs": [],
   "source": [
    "TEST_IMAGES_PATH = Path(\".\").resolve().parent / \"input\" / \"test\"\n",
    "TEST_ANNOTATIONS_CSV_PATH = Path(\".\").resolve().parent / \"input\" / \"test-annotations-bbox.csv\"\n",
    "TEST_CONFIDENCE_CSV_PATH = Path(\".\").resolve().parent / \"input\" / \"test-annotations-human-imagelabels-boxable.csv\""
   ]
  },
  {
   "cell_type": "code",
   "execution_count": 4,
   "metadata": {},
   "outputs": [],
   "source": [
    "# mode = \"val\"\n",
    "# images_path = VALIDATION_IMAGES_PATH\n",
    "# annotations_path = VALIDATION_ANNOTATIONS_CSV_PATH\n",
    "# output_mode = mode\n",
    "\n",
    "mode = \"test\"\n",
    "images_path = TEST_IMAGES_PATH\n",
    "annotations_path = TEST_ANNOTATIONS_CSV_PATH\n",
    "output_mode = mode"
   ]
  },
  {
   "cell_type": "code",
   "execution_count": 5,
   "metadata": {},
   "outputs": [],
   "source": [
    "annotations = pd.read_csv(annotations_path, index_col=\"ImageID\")\n",
    "labels_description = pd.read_csv(LABELS_DESCRIPTION_CSV_PATH, header=None)\n",
    "annotations['LabelName'] = annotations['LabelName'].map(labels_description.set_index(0)[1])\n",
    "\n",
    "xyxy_cols = ['XMin', 'YMin', 'XMax', 'YMax']\n",
    "meta_cols = ['IsOccluded', 'IsTruncated', 'IsGroupOf', 'IsDepiction', 'IsInside']\n",
    "\n",
    "\n",
    "def get_bboxes_labels_meta(canvas_size, image_id):\n",
    "    bboxes = annotations.loc[image_id, xyxy_cols].values\n",
    "    labels = annotations.loc[image_id, 'LabelName']\n",
    "    meta = annotations.loc[image_id, meta_cols].values\n",
    "    \n",
    "    if bboxes.ndim == 1:\n",
    "        bboxes = bboxes[None, :]\n",
    "        meta = meta[None, :]\n",
    "    \n",
    "    if isinstance(labels, str):        \n",
    "        labels = np.array([labels, ])\n",
    "    bboxes[:, 0] *= canvas_size[0]\n",
    "    bboxes[:, 2] *= canvas_size[0]    \n",
    "    bboxes[:, 1] *= canvas_size[1]\n",
    "    bboxes[:, 3] *= canvas_size[1]\n",
    "    return bboxes, labels, meta\n",
    "\n",
    "\n",
    "def compute_area(bbox):\n",
    "    w = bbox[2] - bbox[0] \n",
    "    h = bbox[3] - bbox[1]    \n",
    "    return w * h\n"
   ]
  },
  {
   "cell_type": "code",
   "execution_count": 6,
   "metadata": {},
   "outputs": [],
   "source": [
    "labels = labels_description[1].values.tolist()\n",
    "image_ids = annotations.index.unique()"
   ]
  },
  {
   "cell_type": "code",
   "execution_count": 7,
   "metadata": {},
   "outputs": [],
   "source": [
    "coco_categories = []\n",
    "for i, label in enumerate(labels):\n",
    "    coco_categories.append({\n",
    "        'id': i,\n",
    "        'name': label,\n",
    "        'supercategory': label\n",
    "    })"
   ]
  },
  {
   "cell_type": "code",
   "execution_count": 8,
   "metadata": {},
   "outputs": [],
   "source": [
    "categories = {}\n",
    "for d in coco_categories:\n",
    "    categories[d['name']] = d['id']"
   ]
  },
  {
   "cell_type": "code",
   "execution_count": 9,
   "metadata": {},
   "outputs": [
    {
     "data": {
      "text/html": [
       "<div>\n",
       "<style scoped>\n",
       "    .dataframe tbody tr th:only-of-type {\n",
       "        vertical-align: middle;\n",
       "    }\n",
       "\n",
       "    .dataframe tbody tr th {\n",
       "        vertical-align: top;\n",
       "    }\n",
       "\n",
       "    .dataframe thead th {\n",
       "        text-align: right;\n",
       "    }\n",
       "</style>\n",
       "<table border=\"1\" class=\"dataframe\">\n",
       "  <thead>\n",
       "    <tr style=\"text-align: right;\">\n",
       "      <th></th>\n",
       "      <th>Source</th>\n",
       "      <th>LabelName</th>\n",
       "      <th>Confidence</th>\n",
       "      <th>XMin</th>\n",
       "      <th>XMax</th>\n",
       "      <th>YMin</th>\n",
       "      <th>YMax</th>\n",
       "      <th>IsOccluded</th>\n",
       "      <th>IsTruncated</th>\n",
       "      <th>IsGroupOf</th>\n",
       "      <th>IsDepiction</th>\n",
       "      <th>IsInside</th>\n",
       "    </tr>\n",
       "    <tr>\n",
       "      <th>ImageID</th>\n",
       "      <th></th>\n",
       "      <th></th>\n",
       "      <th></th>\n",
       "      <th></th>\n",
       "      <th></th>\n",
       "      <th></th>\n",
       "      <th></th>\n",
       "      <th></th>\n",
       "      <th></th>\n",
       "      <th></th>\n",
       "      <th></th>\n",
       "      <th></th>\n",
       "    </tr>\n",
       "  </thead>\n",
       "  <tbody>\n",
       "    <tr>\n",
       "      <th>000026e7ee790996</th>\n",
       "      <td>freeform</td>\n",
       "      <td>Tree</td>\n",
       "      <td>1</td>\n",
       "      <td>0.071905</td>\n",
       "      <td>0.145346</td>\n",
       "      <td>0.206591</td>\n",
       "      <td>0.391306</td>\n",
       "      <td>0</td>\n",
       "      <td>1</td>\n",
       "      <td>1</td>\n",
       "      <td>0</td>\n",
       "      <td>0</td>\n",
       "    </tr>\n",
       "    <tr>\n",
       "      <th>000026e7ee790996</th>\n",
       "      <td>freeform</td>\n",
       "      <td>Tree</td>\n",
       "      <td>1</td>\n",
       "      <td>0.439756</td>\n",
       "      <td>0.572466</td>\n",
       "      <td>0.264153</td>\n",
       "      <td>0.435122</td>\n",
       "      <td>0</td>\n",
       "      <td>1</td>\n",
       "      <td>1</td>\n",
       "      <td>0</td>\n",
       "      <td>0</td>\n",
       "    </tr>\n",
       "    <tr>\n",
       "      <th>000026e7ee790996</th>\n",
       "      <td>freeform</td>\n",
       "      <td>Tree</td>\n",
       "      <td>1</td>\n",
       "      <td>0.668455</td>\n",
       "      <td>1.000000</td>\n",
       "      <td>0.000000</td>\n",
       "      <td>0.552825</td>\n",
       "      <td>0</td>\n",
       "      <td>1</td>\n",
       "      <td>1</td>\n",
       "      <td>0</td>\n",
       "      <td>0</td>\n",
       "    </tr>\n",
       "    <tr>\n",
       "      <th>000062a39995e348</th>\n",
       "      <td>freeform</td>\n",
       "      <td>Bird</td>\n",
       "      <td>1</td>\n",
       "      <td>0.205719</td>\n",
       "      <td>0.849912</td>\n",
       "      <td>0.154144</td>\n",
       "      <td>1.000000</td>\n",
       "      <td>0</td>\n",
       "      <td>0</td>\n",
       "      <td>0</td>\n",
       "      <td>0</td>\n",
       "      <td>0</td>\n",
       "    </tr>\n",
       "    <tr>\n",
       "      <th>000062a39995e348</th>\n",
       "      <td>freeform</td>\n",
       "      <td>Plant</td>\n",
       "      <td>1</td>\n",
       "      <td>0.137133</td>\n",
       "      <td>0.377634</td>\n",
       "      <td>0.000000</td>\n",
       "      <td>0.884185</td>\n",
       "      <td>1</td>\n",
       "      <td>1</td>\n",
       "      <td>0</td>\n",
       "      <td>0</td>\n",
       "      <td>0</td>\n",
       "    </tr>\n",
       "  </tbody>\n",
       "</table>\n",
       "</div>"
      ],
      "text/plain": [
       "                    Source LabelName  Confidence      XMin      XMax  \\\n",
       "ImageID                                                                \n",
       "000026e7ee790996  freeform      Tree           1  0.071905  0.145346   \n",
       "000026e7ee790996  freeform      Tree           1  0.439756  0.572466   \n",
       "000026e7ee790996  freeform      Tree           1  0.668455  1.000000   \n",
       "000062a39995e348  freeform      Bird           1  0.205719  0.849912   \n",
       "000062a39995e348  freeform     Plant           1  0.137133  0.377634   \n",
       "\n",
       "                      YMin      YMax  IsOccluded  IsTruncated  IsGroupOf  \\\n",
       "ImageID                                                                    \n",
       "000026e7ee790996  0.206591  0.391306           0            1          1   \n",
       "000026e7ee790996  0.264153  0.435122           0            1          1   \n",
       "000026e7ee790996  0.000000  0.552825           0            1          1   \n",
       "000062a39995e348  0.154144  1.000000           0            0          0   \n",
       "000062a39995e348  0.000000  0.884185           1            1          0   \n",
       "\n",
       "                  IsDepiction  IsInside  \n",
       "ImageID                                  \n",
       "000026e7ee790996            0         0  \n",
       "000026e7ee790996            0         0  \n",
       "000026e7ee790996            0         0  \n",
       "000062a39995e348            0         0  \n",
       "000062a39995e348            0         0  "
      ]
     },
     "execution_count": 9,
     "metadata": {},
     "output_type": "execute_result"
    }
   ],
   "source": [
    "annotations.head()"
   ]
  },
  {
   "cell_type": "code",
   "execution_count": 10,
   "metadata": {},
   "outputs": [
    {
     "name": "stderr",
     "output_type": "stream",
     "text": [
      "/usr/local/lib/python3.5/dist-packages/PIL/Image.py:2514: DecompressionBombWarning: Image size (102539736 pixels) exceeds limit of 89478485 pixels, could be decompression bomb DOS attack.\n",
      "  DecompressionBombWarning)\n"
     ]
    }
   ],
   "source": [
    "coco_images = []\n",
    "coco_annotations = []\n",
    "\n",
    "\n",
    "for image_id in image_ids:    \n",
    "    img = Image.open(images_path / \"{}.jpg\".format(image_id))\n",
    "    \n",
    "    if max(img.size) > 2000 or min(img.size) < 100:\n",
    "        continue\n",
    "    \n",
    "    image_info = {\n",
    "            \"id\": image_id,\n",
    "            \"file_name\": \"{}.jpg\".format(image_id),\n",
    "            \"width\": img.size[0],\n",
    "            \"height\": img.size[1],\n",
    "    }    \n",
    "    bboxes, labels, meta = get_bboxes_labels_meta(img.size, image_id)\n",
    "    \n",
    "    if len(bboxes) == 0:\n",
    "        print(\"No bboxes for image_id '{}'\".format(image_id))\n",
    "        continue\n",
    "\n",
    "    coco_images.append(image_info)    \n",
    "    for i, (bbox, label, m) in enumerate(zip(bboxes, labels, meta)):\n",
    "        m = [int(v) for v in m]\n",
    "        annotation_id = image_id + \"_{}\".format(i)\n",
    "        annotation_info = {\n",
    "            \"id\": annotation_id,\n",
    "            \"image_id\": image_id,\n",
    "            \"category_id\": categories[label],\n",
    "            \"IsOccluded\": m[0],\n",
    "            \"IsTruncated\": m[1],\n",
    "            \"iscrowd\": m[2],\n",
    "            \"IsDepiction\": m[3],\n",
    "            \"IsInside\": m[4],            \n",
    "            \"area\": int(compute_area(bbox)),\n",
    "            \"bbox\": [int(v) for v in bbox.tolist()],\n",
    "            \"segmentation\": [],\n",
    "        } \n",
    "        coco_annotations.append(annotation_info)    "
   ]
  },
  {
   "cell_type": "code",
   "execution_count": 11,
   "metadata": {},
   "outputs": [],
   "source": [
    "output_coco_annotations = {\n",
    "    \"categories\": coco_categories,\n",
    "    \"images\": coco_images,\n",
    "    \"annotations\": coco_annotations\n",
    "}"
   ]
  },
  {
   "cell_type": "code",
   "execution_count": 12,
   "metadata": {},
   "outputs": [],
   "source": [
    "output_folder = Path(\".\").resolve().parent / \"input\" / \"as_mscoco\" / \"annotations\" \n",
    "if not output_folder.exists():\n",
    "    output_folder.mkdir(parents=True)"
   ]
  },
  {
   "cell_type": "code",
   "execution_count": 13,
   "metadata": {},
   "outputs": [],
   "source": [
    "with (output_folder / \"{}.json\".format(output_mode)).open('w') as h:\n",
    "    json.dump(output_coco_annotations, h)"
   ]
  },
  {
   "cell_type": "code",
   "execution_count": null,
   "metadata": {},
   "outputs": [],
   "source": []
  },
  {
   "cell_type": "code",
   "execution_count": 93,
   "metadata": {},
   "outputs": [],
   "source": [
    "if not output_images_folder.exists():\n",
    "    output_images_folder = Path(\".\").resolve().parent / \"input\" / \"as_mscoco\" / output_mode\n",
    "    output_images_folder.symlink_to(images_path, target_is_directory=True)"
   ]
  },
  {
   "cell_type": "code",
   "execution_count": null,
   "metadata": {},
   "outputs": [],
   "source": []
  },
  {
   "cell_type": "code",
   "execution_count": null,
   "metadata": {},
   "outputs": [],
   "source": []
  },
  {
   "cell_type": "code",
   "execution_count": null,
   "metadata": {},
   "outputs": [],
   "source": []
  },
  {
   "cell_type": "code",
   "execution_count": null,
   "metadata": {},
   "outputs": [],
   "source": []
  },
  {
   "cell_type": "markdown",
   "metadata": {},
   "source": [
    "Test with pycocotools"
   ]
  },
  {
   "cell_type": "code",
   "execution_count": 71,
   "metadata": {},
   "outputs": [],
   "source": [
    "from pycocotools import coco"
   ]
  },
  {
   "cell_type": "code",
   "execution_count": 72,
   "metadata": {},
   "outputs": [
    {
     "name": "stdout",
     "output_type": "stream",
     "text": [
      "loading annotations into memory...\n",
      "Done (t=1.39s)\n",
      "creating index...\n",
      "index created!\n"
     ]
    }
   ],
   "source": [
    "coco = coco.COCO((output_folder / \"val.json\").as_posix())"
   ]
  },
  {
   "cell_type": "code",
   "execution_count": 73,
   "metadata": {},
   "outputs": [],
   "source": [
    "anns = coco.getAnnIds()"
   ]
  },
  {
   "cell_type": "code",
   "execution_count": 76,
   "metadata": {},
   "outputs": [
    {
     "data": {
      "text/plain": [
       "(204621, ['0001eeaf4aed83f9_0', '000595fe6fee6369_0'])"
      ]
     },
     "execution_count": 76,
     "metadata": {},
     "output_type": "execute_result"
    }
   ],
   "source": [
    "len(anns), anns[:2]"
   ]
  },
  {
   "cell_type": "code",
   "execution_count": null,
   "metadata": {},
   "outputs": [],
   "source": []
  },
  {
   "cell_type": "code",
   "execution_count": null,
   "metadata": {},
   "outputs": [],
   "source": []
  },
  {
   "cell_type": "code",
   "execution_count": null,
   "metadata": {},
   "outputs": [],
   "source": []
  },
  {
   "cell_type": "code",
   "execution_count": null,
   "metadata": {},
   "outputs": [],
   "source": []
  },
  {
   "cell_type": "code",
   "execution_count": null,
   "metadata": {},
   "outputs": [],
   "source": []
  },
  {
   "cell_type": "code",
   "execution_count": 4,
   "metadata": {},
   "outputs": [
    {
     "name": "stdout",
     "output_type": "stream",
     "text": [
      "Run\n",
      "-- Task --\n",
      "0.6062518296570525 0.9296160928171479\n",
      "0.7142844140096419 0.3163755545817859\n",
      "-- End Task --\n",
      "-- Task --\n",
      "0.6959326394013083 0.9296160928171479\n",
      "0.31228532647566887 0.3163755545817859\n",
      "-- End Task --\n",
      "-- Task --\n",
      "0.4936887984487045 0.9296160928171479\n",
      "0.7509582156538067 0.3163755545817859\n",
      "-- Task --\n",
      "-- End Task --\n",
      "0.6168844031764428 0.9296160928171479\n",
      "0.5782864572237567 0.3163755545817859\n",
      "-- End Task --\n"
     ]
    }
   ],
   "source": [
    "import multiprocessing as mp\n",
    "\n",
    "import random\n",
    "import numpy as np\n",
    "\n",
    "def task():\n",
    "    print(\"-- Task --\")\n",
    "    print(random.random(), np.random.rand())\n",
    "    print(random.random(), np.random.rand())\n",
    "    print(\"-- End Task --\")\n",
    "    \n",
    "random.seed(12345)\n",
    "np.random.seed(12345)\n",
    "\n",
    "workers = [mp.Process(target=task, args=()) for i in range(4)]\n",
    "\n",
    "print(\"Run\")\n",
    "for w in workers:\n",
    "    w.start()"
   ]
  },
  {
   "cell_type": "code",
   "execution_count": null,
   "metadata": {},
   "outputs": [],
   "source": []
  }
 ],
 "metadata": {
  "kernelspec": {
   "display_name": "Python 3",
   "language": "python",
   "name": "python3"
  },
  "language_info": {
   "codemirror_mode": {
    "name": "ipython",
    "version": 3
   },
   "file_extension": ".py",
   "mimetype": "text/x-python",
   "name": "python",
   "nbconvert_exporter": "python",
   "pygments_lexer": "ipython3",
   "version": "3.5.2"
  }
 },
 "nbformat": 4,
 "nbformat_minor": 2
}
