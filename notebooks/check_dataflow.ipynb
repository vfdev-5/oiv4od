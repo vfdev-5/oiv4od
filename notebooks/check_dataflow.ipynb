{
 "cells": [
  {
   "cell_type": "markdown",
   "metadata": {},
   "source": [
    "# Check dataflow:\n",
    "- training"
   ]
  },
  {
   "cell_type": "code",
   "execution_count": 1,
   "metadata": {},
   "outputs": [],
   "source": [
    "import os\n",
    "from pathlib import Path\n",
    "import sys\n",
    "\n",
    "import numpy as np\n",
    "import pandas as pd\n",
    "\n",
    "sys.path.insert(0, (Path(\".\").resolve().parent / \"Detectron.pytorch\" / \"lib\").as_posix())"
   ]
  },
  {
   "cell_type": "code",
   "execution_count": 2,
   "metadata": {},
   "outputs": [],
   "source": [
    "pwd=!cd ../ && echo ${PWD}/\n",
    "pwd = Path(pwd[0])\n",
    "data_dir = (pwd / \"input\" / \"as_mscoco\")\n",
    "\n",
    "os.environ['DATA_DIR'] = data_dir.as_posix()\n",
    "os.environ['CUSTOM_DATASETS'] = (pwd / \"datasets\" / \"dataset_catalog.py\").as_posix()\n",
    "base_output_path = Path(\"/home/storage_ntfs_1tb\")\n",
    "assert base_output_path.exists()"
   ]
  },
  {
   "cell_type": "code",
   "execution_count": 3,
   "metadata": {},
   "outputs": [],
   "source": [
    "from core.config import cfg, cfg_from_file, assert_and_infer_cfg\n",
    "\n",
    "cfg_from_file(\"../experiments/configs/train/train_faster_rcnn_X-101-64x4d-FPN_2x_gpu_1.yaml\")\n",
    "# cfg.DEBUG = True\n",
    "cfg.TRAIN.IMS_PER_BATCH = 1\n",
    "assert_and_infer_cfg()\n"
   ]
  },
  {
   "cell_type": "code",
   "execution_count": 4,
   "metadata": {},
   "outputs": [],
   "source": [
    "from datasets.roidb import combined_roidb_for_training"
   ]
  },
  {
   "cell_type": "code",
   "execution_count": 5,
   "metadata": {},
   "outputs": [
    {
     "name": "stdout",
     "output_type": "stream",
     "text": [
      "loading annotations into memory...\n",
      "Done (t=17.03s)\n",
      "creating index...\n",
      "index created!\n"
     ]
    }
   ],
   "source": [
    "roidb, ratio_list, ratio_index = combined_roidb_for_training((\"open_images_v4_train\", ), ())"
   ]
  },
  {
   "cell_type": "code",
   "execution_count": 6,
   "metadata": {},
   "outputs": [],
   "source": [
    "from roi_data.loader import RoiDataLoader, MinibatchSampler, BatchSampler, collate_minibatch"
   ]
  },
  {
   "cell_type": "code",
   "execution_count": 7,
   "metadata": {},
   "outputs": [],
   "source": [
    "roidb_size = len(roidb)\n",
    "original_batch_size = cfg.NUM_GPUS * cfg.TRAIN.IMS_PER_BATCH\n",
    "train_size = roidb_size // original_batch_size * original_batch_size"
   ]
  },
  {
   "cell_type": "code",
   "execution_count": 8,
   "metadata": {},
   "outputs": [],
   "source": [
    "import torch \n",
    "\n",
    "batchSampler = BatchSampler(\n",
    "    sampler=MinibatchSampler(ratio_list, ratio_index),\n",
    "    batch_size=original_batch_size,\n",
    "    drop_last=True\n",
    ")\n",
    "\n",
    "dataset = RoiDataLoader(\n",
    "    roidb,\n",
    "    cfg.MODEL.NUM_CLASSES,\n",
    "    training=True)\n",
    "\n",
    "dataloader = torch.utils.data.DataLoader(\n",
    "    dataset,\n",
    "    batch_sampler=batchSampler,\n",
    "    num_workers=cfg.DATA_LOADER.NUM_THREADS,\n",
    "    collate_fn=collate_minibatch)\n"
   ]
  },
  {
   "cell_type": "code",
   "execution_count": null,
   "metadata": {},
   "outputs": [
    {
     "name": "stderr",
     "output_type": "stream",
     "text": [
      "  0%|          | 0/948332 [00:00<?, ?it/s]/usr/local/lib/python3.5/dist-packages/torch/nn/functional.py:1890: UserWarning: nn.functional.upsample is deprecated. Use nn.functional.interpolate instead.\n",
      "  warnings.warn(\"nn.functional.upsample is deprecated. Use nn.functional.interpolate instead.\")\n",
      "/usr/local/lib/python3.5/dist-packages/torch/nn/functional.py:1006: UserWarning: nn.functional.sigmoid is deprecated. Use torch.sigmoid instead.\n",
      "  warnings.warn(\"nn.functional.sigmoid is deprecated. Use torch.sigmoid instead.\")\n",
      "/usr/local/lib/python3.5/dist-packages/torch/nn/functional.py:52: UserWarning: size_average and reduce args will be deprecated, please use reduction='sum' instead.\n",
      "  warnings.warn(warning.format(ret))\n",
      "  0%|          | 504/948332 [02:02<63:46:40,  4.13it/s]"
     ]
    },
    {
     "name": "stdout",
     "output_type": "stream",
     "text": [
      "could not broadcast input array from shape (4) into shape (0)\n",
      "Python 3.5.2 (default, Nov 23 2017, 16:37:01) \n",
      "Type 'copyright', 'credits' or 'license' for more information\n",
      "IPython 6.3.1 -- An enhanced Interactive Python. Type '?' for help.\n",
      "\n",
      "IPython\t bbox_inside_weights\t bbox_target_data\t bbox_targets\t cls\t clss\t e\t end\t ind\t \n",
      "inds\t num_bbox_reg_classes\t start\t \n",
      "\n",
      "Out[2]: 2404\n",
      "\n",
      "Out[3]: (4,)\n",
      "\n",
      "Out[4]: (512, 2404)\n",
      "\n",
      "Out[5]: (0,)\n",
      "\n",
      "Out[6]: 601\n",
      "\n",
      "Out[7]: (512,)\n",
      "\n",
      "Out[8]: 91\n",
      "\n",
      "Out[9]: \n",
      "array([503., 177., 298., 298., 434., 503., 503., 298., 292., 434., 221.,\n",
      "       308., 434., 221., 221., 540., 292., 221., 292., 434., 298., 177.,\n",
      "       292., 503., 221., 177., 298., 434., 503., 236., 221., 434., 221.,\n",
      "       540., 221., 568., 235., 601., 434., 503., 308., 434., 601., 540.,\n",
      "       540., 308., 221., 298., 502., 298., 601., 502., 434., 298., 221.,\n",
      "       236., 540., 502., 434., 298., 503., 502., 308., 502., 434., 601.,\n",
      "       236., 434., 540., 540., 298., 177., 298., 502., 308., 236., 601.,\n",
      "       177., 434., 503., 308., 177., 298., 601., 221., 502., 434., 298.,\n",
      "       292., 601., 568.,   0.,   0.,   0.,   0.,   0.,   0.,   0.,   0.,\n",
      "         0.,   0.,   0.,   0.,   0.,   0.,   0.,   0.,   0.,   0.,   0.,\n",
      "         0.,   0.,   0.,   0.,   0.,   0.,   0.,   0.,   0.,   0.,   0.,\n",
      "         0.,   0.,   0.,   0.,   0.,   0.,   0.,   0.,   0.,   0.,   0.,\n",
      "         0.,   0.,   0.,   0.,   0.,   0.,   0.,   0.,   0.,   0.,   0.,\n",
      "         0.,   0.,   0.,   0.,   0.,   0.,   0.,   0.,   0.,   0.,   0.,\n",
      "         0.,   0.,   0.,   0.,   0.,   0.,   0.,   0.,   0.,   0.,   0.,\n",
      "         0.,   0.,   0.,   0.,   0.,   0.,   0.,   0.,   0.,   0.,   0.,\n",
      "         0.,   0.,   0.,   0.,   0.,   0.,   0.,   0.,   0.,   0.,   0.,\n",
      "         0.,   0.,   0.,   0.,   0.,   0.,   0.,   0.,   0.,   0.,   0.,\n",
      "         0.,   0.,   0.,   0.,   0.,   0.,   0.,   0.,   0.,   0.,   0.,\n",
      "         0.,   0.,   0.,   0.,   0.,   0.,   0.,   0.,   0.,   0.,   0.,\n",
      "         0.,   0.,   0.,   0.,   0.,   0.,   0.,   0.,   0.,   0.,   0.,\n",
      "         0.,   0.,   0.,   0.,   0.,   0.,   0.,   0.,   0.,   0.,   0.,\n",
      "         0.,   0.,   0.,   0.,   0.,   0.,   0.,   0.,   0.,   0.,   0.,\n",
      "         0.,   0.,   0.,   0.,   0.,   0.,   0.,   0.,   0.,   0.,   0.,\n",
      "         0.,   0.,   0.,   0.,   0.,   0.,   0.,   0.,   0.,   0.,   0.,\n",
      "         0.,   0.,   0.,   0.,   0.,   0.,   0.,   0.,   0.,   0.,   0.,\n",
      "         0.,   0.,   0.,   0.,   0.,   0.,   0.,   0.,   0.,   0.,   0.,\n",
      "         0.,   0.,   0.,   0.,   0.,   0.,   0.,   0.,   0.,   0.,   0.,\n",
      "         0.,   0.,   0.,   0.,   0.,   0.,   0.,   0.,   0.,   0.,   0.,\n",
      "         0.,   0.,   0.,   0.,   0.,   0.,   0.,   0.,   0.,   0.,   0.,\n",
      "         0.,   0.,   0.,   0.,   0.,   0.,   0.,   0.,   0.,   0.,   0.,\n",
      "         0.,   0.,   0.,   0.,   0.,   0.,   0.,   0.,   0.,   0.,   0.,\n",
      "         0.,   0.,   0.,   0.,   0.,   0.,   0.,   0.,   0.,   0.,   0.,\n",
      "         0.,   0.,   0.,   0.,   0.,   0.,   0.,   0.,   0.,   0.,   0.,\n",
      "         0.,   0.,   0.,   0.,   0.,   0.,   0.,   0.,   0.,   0.,   0.,\n",
      "         0.,   0.,   0.,   0.,   0.,   0.,   0.,   0.,   0.,   0.,   0.,\n",
      "         0.,   0.,   0.,   0.,   0.,   0.,   0.,   0.,   0.,   0.,   0.,\n",
      "         0.,   0.,   0.,   0.,   0.,   0.,   0.,   0.,   0.,   0.,   0.,\n",
      "         0.,   0.,   0.,   0.,   0.,   0.,   0.,   0.,   0.,   0.,   0.,\n",
      "         0.,   0.,   0.,   0.,   0.,   0.,   0.,   0.,   0.,   0.,   0.,\n",
      "         0.,   0.,   0.,   0.,   0.,   0.,   0.,   0.,   0.,   0.,   0.,\n",
      "         0.,   0.,   0.,   0.,   0.,   0.,   0.,   0.,   0.,   0.,   0.,\n",
      "         0.,   0.,   0.,   0.,   0.,   0.,   0.,   0.,   0.,   0.,   0.,\n",
      "         0.,   0.,   0.,   0.,   0.,   0.,   0.,   0.,   0.,   0.,   0.,\n",
      "         0.,   0.,   0.,   0.,   0.,   0.,   0.,   0.,   0.,   0.,   0.,\n",
      "         0.,   0.,   0.,   0.,   0.,   0.,   0.,   0.,   0.,   0.,   0.,\n",
      "         0.,   0.,   0.,   0.,   0.,   0.], dtype=float32)\n",
      "\n",
      "\n",
      "\n",
      "Out[12]: (512, 5)\n",
      "\n",
      "Out[13]: \n",
      "array([ 0,  1,  2,  3,  4,  5,  6,  7,  8,  9, 10, 11, 12, 13, 14, 15, 16,\n",
      "       17, 18, 19, 20, 21, 22, 23, 24, 25, 26, 27, 28, 29, 30, 31, 32, 33,\n",
      "       34, 35, 36, 37, 38, 39, 40, 41, 42, 43, 44, 45, 46, 47, 48, 49, 50,\n",
      "       51, 52, 53, 54, 55, 56, 57, 58, 59, 60, 61, 62, 63, 64, 65, 66, 67,\n",
      "       68, 69, 70, 71, 72, 73, 74, 75, 76, 77, 78, 79, 80, 81, 82, 83, 84,\n",
      "       85, 86, 87, 88, 89, 90])\n",
      "\n",
      "Out[14]: 601.0\n",
      "\n",
      "Out[15]: 2404\n",
      "\n",
      "Out[16]: 37\n",
      "\n"
     ]
    }
   ],
   "source": [
    "import tqdm\n",
    "from modeling.model_builder import Generalized_RCNN\n",
    "import nn as mynn\n",
    "\n",
    "\n",
    "maskRCNN = Generalized_RCNN()\n",
    "maskRCNN.cuda()\n",
    "maskRCNN = mynn.DataParallel(maskRCNN, cpu_keywords=['im_info', 'roidb'],\n",
    "                             minibatch=True)\n",
    "\n",
    "maskRCNN.train()\n",
    "\n",
    "\n",
    "try:\n",
    "    for input_data in tqdm.tqdm(dataloader):\n",
    "        net_outputs = maskRCNN(**input_data)    \n",
    "except KeyboardInterrupt:\n",
    "    pass"
   ]
  },
  {
   "cell_type": "code",
   "execution_count": null,
   "metadata": {},
   "outputs": [],
   "source": []
  },
  {
   "cell_type": "code",
   "execution_count": null,
   "metadata": {},
   "outputs": [],
   "source": [
    "input_data.keys()"
   ]
  },
  {
   "cell_type": "code",
   "execution_count": 15,
   "metadata": {},
   "outputs": [
    {
     "data": {
      "text/plain": [
       "[tensor([[ 800.0000, 1203.0000,    1.1747]])]"
      ]
     },
     "execution_count": 15,
     "metadata": {},
     "output_type": "execute_result"
    }
   ],
   "source": [
    "input_data['im_info']"
   ]
  },
  {
   "cell_type": "code",
   "execution_count": 16,
   "metadata": {},
   "outputs": [],
   "source": [
    "import matplotlib.pylab as plt\n",
    "import seaborn as sns\n",
    "%matplotlib inline"
   ]
  },
  {
   "cell_type": "code",
   "execution_count": 26,
   "metadata": {},
   "outputs": [
    {
     "data": {
      "text/plain": [
       "<matplotlib.image.AxesImage at 0x7f1b2a0690b8>"
      ]
     },
     "execution_count": 26,
     "metadata": {},
     "output_type": "execute_result"
    },
    {
     "data": {
      "image/png": "[encoded data removed]",
      "text/plain": [
       "<Figure size 432x288 with 1 Axes>"
      ]
     },
     "metadata": {},
     "output_type": "display_data"
    }
   ],
   "source": [
    "im = input_data['data'][0].detach().numpy()[0, ...].transpose((1, 2, 0))\n",
    "im = ((im - im.min()) / (im.max() - im.min()) * 255).astype(np.uint8)\n",
    "\n",
    "plt.imshow(im)"
   ]
  },
  {
   "cell_type": "code",
   "execution_count": 29,
   "metadata": {},
   "outputs": [],
   "source": [
    "import utils.blob as blob_utils\n",
    "\n",
    "_roidb = list(map(lambda x: blob_utils.deserialize(x)[0], input_data['roidb'][0]))"
   ]
  },
  {
   "cell_type": "code",
   "execution_count": 30,
   "metadata": {},
   "outputs": [
    {
     "data": {
      "text/plain": [
       "[{'box_to_gt_ind_map': array([0, 1, 2, 3], dtype=int32),\n",
       "  'boxes': array([[ 143.,   45.,  547.,  664.],\n",
       "         [ 221.,   29.,  449.,  213.],\n",
       "         [ 422.,   72., 1023.,  678.],\n",
       "         [ 594.,   73.,  815.,  285.]], dtype=float32),\n",
       "  'gt_classes': array([ 69, 601,  69, 601], dtype=int32),\n",
       "  'gt_overlaps': <4x602 sparse matrix of type '<class 'numpy.float32'>'\n",
       "  \twith 4 stored elements in Compressed Sparse Row format>,\n",
       "  'has_visible_keypoints': False,\n",
       "  'is_crowd': array([False, False, False, False]),\n",
       "  'seg_areas': array([251100.,  42365., 365414.,  47286.], dtype=float32),\n",
       "  'segms': [[], [], [], []]}]"
      ]
     },
     "execution_count": 30,
     "metadata": {},
     "output_type": "execute_result"
    }
   ],
   "source": [
    "_roidb"
   ]
  },
  {
   "cell_type": "code",
   "execution_count": 38,
   "metadata": {},
   "outputs": [
    {
     "data": {
      "text/plain": [
       "tensor([[ 800.0000, 1203.0000,    1.1747]])"
      ]
     },
     "execution_count": 38,
     "metadata": {},
     "output_type": "execute_result"
    }
   ],
   "source": [
    "im_scales = input_data['im_info'][0]\n",
    "im_scales"
   ]
  },
  {
   "cell_type": "code",
   "execution_count": 46,
   "metadata": {},
   "outputs": [],
   "source": [
    "conv_body = maskRCNN.module.Conv_Body.to('cpu')"
   ]
  },
  {
   "cell_type": "code",
   "execution_count": 52,
   "metadata": {},
   "outputs": [],
   "source": [
    "rpn = maskRCNN.module.RPN.to('cpu')"
   ]
  },
  {
   "cell_type": "code",
   "execution_count": null,
   "metadata": {},
   "outputs": [],
   "source": [
    "inputs = conv_body(input_data['data'][0])"
   ]
  },
  {
   "cell_type": "code",
   "execution_count": 55,
   "metadata": {},
   "outputs": [],
   "source": [
    "im_info = im_scales"
   ]
  },
  {
   "cell_type": "code",
   "execution_count": null,
   "metadata": {},
   "outputs": [],
   "source": []
  },
  {
   "cell_type": "code",
   "execution_count": 60,
   "metadata": {},
   "outputs": [
    {
     "name": "stderr",
     "output_type": "stream",
     "text": [
      "/usr/local/lib/python3.5/dist-packages/torch/nn/functional.py:1006: UserWarning: nn.functional.sigmoid is deprecated. Use torch.sigmoid instead.\n",
      "  warnings.warn(\"nn.functional.sigmoid is deprecated. Use torch.sigmoid instead.\")\n"
     ]
    },
    {
     "name": "stdout",
     "output_type": "stream",
     "text": [
      "could not broadcast input array from shape (4) into shape (0)\n",
      "Python 3.5.2 (default, Nov 23 2017, 16:37:01) \n",
      "Type 'copyright', 'credits' or 'license' for more information\n",
      "IPython 6.3.1 -- An enhanced Interactive Python. Type '?' for help.\n",
      "\n",
      "BatchSampler\t Generalized_RCNN\t IPython\t MinibatchSampler\t Path\t RoiDataLoader\t assert_and_infer_cfg\t base_output_path\t batchSampler\t \n",
      "blob_utils\t cfg\t cfg_from_file\t collate_minibatch\t collect\t combined_roidb_for_training\t conv_body\t data_dir\t dataloader\t \n",
      "dataset\t e\t entry\t get_fast_rcnn_blob_names\t im\t im_i\t im_info\t im_scales\t input_data\t \n",
      "inputs\t maskRCNN\t mynn\t net_outputs\t np\t original_batch_size\t os\t pd\t plt\t \n",
      "pwd\t ratio_index\t ratio_list\t roidb\t roidb_size\t rpn\t sns\t sys\t torch\t \n",
      "tqdm\t train_size\t \n",
      "\n",
      "\n"
     ]
    }
   ],
   "source": [
    "try:\n",
    "    res = rpn(inputs, im_info, _roidb)\n",
    "except ValueError as e:\n",
    "    print(e)\n",
    "    import IPython\n",
    "    IPython.embed()  # noqa"
   ]
  },
  {
   "cell_type": "code",
   "execution_count": null,
   "metadata": {},
   "outputs": [],
   "source": []
  },
  {
   "cell_type": "code",
   "execution_count": 54,
   "metadata": {},
   "outputs": [],
   "source": [
    "# from datasets import json_dataset\n",
    "\n",
    "\n",
    "# json_dataset.add_proposals(_roidb, rois, im_scales, crowd_thresh=0)"
   ]
  },
  {
   "cell_type": "code",
   "execution_count": 53,
   "metadata": {},
   "outputs": [],
   "source": [
    "# from roi_data.fast_rcnn import get_fast_rcnn_blob_names, _sample_rois\n",
    "\n",
    "# for im_i, entry in enumerate(_roidb):\n",
    "#     frcn_blobs = _sample_rois(entry, im_scales[im_i], im_i)\n"
   ]
  },
  {
   "cell_type": "code",
   "execution_count": null,
   "metadata": {},
   "outputs": [],
   "source": []
  },
  {
   "cell_type": "code",
   "execution_count": null,
   "metadata": {},
   "outputs": [],
   "source": []
  },
  {
   "cell_type": "code",
   "execution_count": null,
   "metadata": {},
   "outputs": [],
   "source": []
  },
  {
   "cell_type": "code",
   "execution_count": null,
   "metadata": {},
   "outputs": [],
   "source": []
  },
  {
   "cell_type": "code",
   "execution_count": null,
   "metadata": {},
   "outputs": [],
   "source": []
  },
  {
   "cell_type": "code",
   "execution_count": null,
   "metadata": {},
   "outputs": [],
   "source": []
  },
  {
   "cell_type": "code",
   "execution_count": 21,
   "metadata": {},
   "outputs": [],
   "source": [
    "from roi_data.minibatch import get_minibatch"
   ]
  },
  {
   "cell_type": "code",
   "execution_count": 17,
   "metadata": {},
   "outputs": [],
   "source": [
    "batch_sampler_iter = iter(batchSampler)"
   ]
  },
  {
   "cell_type": "code",
   "execution_count": 19,
   "metadata": {},
   "outputs": [],
   "source": [
    "for batch_index_tuple in batch_sampler_iter:\n",
    "    for index_tuple in batch_index_tuple:\n",
    "        # x = dataset[index_tuple]\n",
    "\n",
    "        index, ratio = index_tuple\n",
    "        single_db = [dataset._roidb[index]]\n",
    "        blobs, valid = get_minibatch(single_db)\n",
    "\n",
    "        break\n",
    "    break"
   ]
  },
  {
   "cell_type": "code",
   "execution_count": null,
   "metadata": {},
   "outputs": [],
   "source": []
  },
  {
   "cell_type": "code",
   "execution_count": null,
   "metadata": {},
   "outputs": [],
   "source": []
  },
  {
   "cell_type": "code",
   "execution_count": null,
   "metadata": {},
   "outputs": [],
   "source": []
  },
  {
   "cell_type": "code",
   "execution_count": 8,
   "metadata": {},
   "outputs": [],
   "source": [
    "from roi_data.fast_rcnn import get_fast_rcnn_blob_names, _sample_rois"
   ]
  },
  {
   "cell_type": "code",
   "execution_count": 10,
   "metadata": {},
   "outputs": [
    {
     "data": {
      "text/plain": [
       "{'bbox_inside_weights': [],\n",
       " 'bbox_outside_weights': [],\n",
       " 'bbox_targets': [],\n",
       " 'labels_int32': [],\n",
       " 'rois': []}"
      ]
     },
     "execution_count": 10,
     "metadata": {},
     "output_type": "execute_result"
    }
   ],
   "source": [
    "output_blob_names = get_fast_rcnn_blob_names()\n",
    "blobs = {k: [] for k in output_blob_names}\n",
    "blobs"
   ]
  },
  {
   "cell_type": "code",
   "execution_count": null,
   "metadata": {},
   "outputs": [],
   "source": []
  },
  {
   "cell_type": "code",
   "execution_count": null,
   "metadata": {},
   "outputs": [],
   "source": []
  },
  {
   "cell_type": "code",
   "execution_count": 22,
   "metadata": {},
   "outputs": [
    {
     "data": {
      "text/plain": [
       "array([[ 69.,   0.,   0.,   0.,   0.],\n",
       "       [ 69.,   0.,   0.,   0.,   0.],\n",
       "       [ 69.,   0.,   0.,   0.,   0.],\n",
       "       [ 69.,   0.,   0.,   0.,   0.],\n",
       "       [ 69.,   0.,   0.,   0.,   0.],\n",
       "       [ 69.,   0.,   0.,   0.,   0.],\n",
       "       [ 69.,   0.,   0.,   0.,   0.],\n",
       "       [149.,   0.,   0.,   0.,   0.],\n",
       "       [281.,   0.,   0.,   0.,   0.],\n",
       "       [281.,   0.,   0.,   0.,   0.],\n",
       "       [281.,   0.,   0.,   0.,   0.],\n",
       "       [520.,   0.,   0.,   0.,   0.],\n",
       "       [558.,   0.,   0.,   0.,   0.]], dtype=float32)"
      ]
     },
     "execution_count": 22,
     "metadata": {},
     "output_type": "execute_result"
    }
   ],
   "source": [
    "entry = roidb[0]\n",
    "entry['bbox_targets']"
   ]
  },
  {
   "cell_type": "code",
   "execution_count": null,
   "metadata": {},
   "outputs": [],
   "source": []
  },
  {
   "cell_type": "code",
   "execution_count": null,
   "metadata": {},
   "outputs": [],
   "source": []
  },
  {
   "cell_type": "code",
   "execution_count": null,
   "metadata": {},
   "outputs": [],
   "source": [
    "for im_i, entry in enumerate(roidb):\n",
    "    frcn_blobs = _sample_rois(entry, im_scales[im_i], im_i)"
   ]
  },
  {
   "cell_type": "code",
   "execution_count": null,
   "metadata": {},
   "outputs": [],
   "source": []
  },
  {
   "cell_type": "code",
   "execution_count": null,
   "metadata": {},
   "outputs": [],
   "source": []
  },
  {
   "cell_type": "code",
   "execution_count": null,
   "metadata": {},
   "outputs": [],
   "source": []
  },
  {
   "cell_type": "code",
   "execution_count": null,
   "metadata": {},
   "outputs": [],
   "source": []
  },
  {
   "cell_type": "code",
   "execution_count": null,
   "metadata": {},
   "outputs": [],
   "source": []
  },
  {
   "cell_type": "code",
   "execution_count": null,
   "metadata": {},
   "outputs": [],
   "source": [
    "import matplotlib.pylab as plt\n",
    "import seaborn as sns\n",
    "%matplotlib inline"
   ]
  }
 ],
 "metadata": {
  "kernelspec": {
   "display_name": "Python 3",
   "language": "python",
   "name": "python3"
  },
  "language_info": {
   "codemirror_mode": {
    "name": "ipython",
    "version": 3
   },
   "file_extension": ".py",
   "mimetype": "text/x-python",
   "name": "python",
   "nbconvert_exporter": "python",
   "pygments_lexer": "ipython3",
   "version": "3.5.2"
  }
 },
 "nbformat": 4,
 "nbformat_minor": 2
}
